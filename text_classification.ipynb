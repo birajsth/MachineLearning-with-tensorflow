{
  "nbformat": 4,
  "nbformat_minor": 0,
  "metadata": {
    "colab": {
      "name": "Untitled2.ipynb",
      "version": "0.3.2",
      "provenance": [],
      "include_colab_link": true
    },
    "kernelspec": {
      "name": "python3",
      "display_name": "Python 3"
    }
  },
  "cells": [
    {
      "cell_type": "markdown",
      "metadata": {
        "id": "view-in-github",
        "colab_type": "text"
      },
      "source": [
        "<a href=\"https://colab.research.google.com/github/birajsth/MachineLearning-with-tensorflow/blob/master/text_classification.ipynb\" target=\"_parent\"><img src=\"https://colab.research.google.com/assets/colab-badge.svg\" alt=\"Open In Colab\"/></a>"
      ]
    },
    {
      "cell_type": "markdown",
      "metadata": {
        "id": "NmN2IsbUi40p",
        "colab_type": "text"
      },
      "source": [
        "### Text classification with movie reviews\n",
        "We'll use the IMDB dataset that contains the text of 50,000 movie reviews from the Internet Movie Database."
      ]
    },
    {
      "cell_type": "code",
      "metadata": {
        "id": "Bh7AnIUViLUG",
        "colab_type": "code",
        "colab": {
          "base_uri": "https://localhost:8080/",
          "height": 54
        },
        "outputId": "132761a2-c183-48b1-c3e7-84fb10fbbf25"
      },
      "source": [
        "from __future__ import absolute_import, division, print_function\n",
        "\n",
        "import tensorflow as tf\n",
        "from tensorflow import keras\n",
        "!pip install numpy==1.16.2\n",
        "import numpy as np "
      ],
      "execution_count": 2,
      "outputs": [
        {
          "output_type": "stream",
          "text": [
            "Requirement already satisfied: numpy==1.16.2 in /usr/local/lib/python3.6/dist-packages (1.16.2)\n"
          ],
          "name": "stdout"
        }
      ]
    },
    {
      "cell_type": "code",
      "metadata": {
        "id": "QuXUzbGZjTGb",
        "colab_type": "code",
        "colab": {}
      },
      "source": [
        "imdb = tf.keras.datasets.imdb\n",
        "(train_data, train_labels), (test_data, test_labels) = imdb.load_data(num_words=10000)"
      ],
      "execution_count": 0,
      "outputs": []
    },
    {
      "cell_type": "markdown",
      "metadata": {
        "id": "dhYxUl-xjpXU",
        "colab_type": "text"
      },
      "source": [
        "The argument numwords=10000 keeps the top 10,000 most frequently occuring words in the training data.\n",
        "\n"
      ]
    },
    {
      "cell_type": "code",
      "metadata": {
        "id": "iMTCRusjkGkQ",
        "colab_type": "code",
        "outputId": "3e6ff366-5d3c-47fe-e8ec-4da900d56cc9",
        "colab": {
          "base_uri": "https://localhost:8080/",
          "height": 34
        }
      },
      "source": [
        "print(f'Training entries: {len(train_data)}, labels: {len(train_labels)}')"
      ],
      "execution_count": 4,
      "outputs": [
        {
          "output_type": "stream",
          "text": [
            "Training entries: 25000, labels: 25000\n"
          ],
          "name": "stdout"
        }
      ]
    },
    {
      "cell_type": "markdown",
      "metadata": {
        "id": "9IHhP8QilhYl",
        "colab_type": "text"
      },
      "source": [
        "The text of reviews have been converted to integers, where each integer represents a specific word in a dictionary. Here's what the first review looks like:"
      ]
    },
    {
      "cell_type": "code",
      "metadata": {
        "id": "Xhx382LplwUe",
        "colab_type": "code",
        "outputId": "3c9f27c5-93a0-415e-ac33-a0b4ce809b25",
        "colab": {
          "base_uri": "https://localhost:8080/",
          "height": 54
        }
      },
      "source": [
        "print(train_data[0])"
      ],
      "execution_count": 0,
      "outputs": [
        {
          "output_type": "stream",
          "text": [
            "[1, 14, 22, 16, 43, 530, 973, 1622, 1385, 65, 458, 4468, 66, 3941, 4, 173, 36, 256, 5, 25, 100, 43, 838, 112, 50, 670, 2, 9, 35, 480, 284, 5, 150, 4, 172, 112, 167, 2, 336, 385, 39, 4, 172, 4536, 1111, 17, 546, 38, 13, 447, 4, 192, 50, 16, 6, 147, 2025, 19, 14, 22, 4, 1920, 4613, 469, 4, 22, 71, 87, 12, 16, 43, 530, 38, 76, 15, 13, 1247, 4, 22, 17, 515, 17, 12, 16, 626, 18, 2, 5, 62, 386, 12, 8, 316, 8, 106, 5, 4, 2223, 5244, 16, 480, 66, 3785, 33, 4, 130, 12, 16, 38, 619, 5, 25, 124, 51, 36, 135, 48, 25, 1415, 33, 6, 22, 12, 215, 28, 77, 52, 5, 14, 407, 16, 82, 2, 8, 4, 107, 117, 5952, 15, 256, 4, 2, 7, 3766, 5, 723, 36, 71, 43, 530, 476, 26, 400, 317, 46, 7, 4, 2, 1029, 13, 104, 88, 4, 381, 15, 297, 98, 32, 2071, 56, 26, 141, 6, 194, 7486, 18, 4, 226, 22, 21, 134, 476, 26, 480, 5, 144, 30, 5535, 18, 51, 36, 28, 224, 92, 25, 104, 4, 226, 65, 16, 38, 1334, 88, 12, 16, 283, 5, 16, 4472, 113, 103, 32, 15, 16, 5345, 19, 178, 32]\n"
          ],
          "name": "stdout"
        }
      ]
    },
    {
      "cell_type": "markdown",
      "metadata": {
        "id": "SjjaereImNBD",
        "colab_type": "text"
      },
      "source": [
        "### Convert the integers back to words\n"
      ]
    },
    {
      "cell_type": "code",
      "metadata": {
        "id": "QTLt99I5lfLK",
        "colab_type": "code",
        "colab": {
          "base_uri": "https://localhost:8080/",
          "height": 71
        },
        "outputId": "310db538-408a-4aef-862b-2f445045eced"
      },
      "source": [
        "# A dictionary mapping words to an integer index\n",
        "word_index = imdb.get_word_index()\n",
        "\n",
        "# The First indices are reserveed\n",
        "word_index = {k:(v+3) for k,v in word_index.items()}\n",
        "word_index[\"<PAD>\"] = 0\n",
        "word_index[\"<START>\"] = 1\n",
        "word_index[\"<UNK>\"] = 2  # unknown\n",
        "word_index[\"<UNUSED>\"] = 3\n",
        "\n",
        "reverse_word_index = dict([(value,key) for (key,value) in word_index.items()])\n",
        "\n",
        "def decode_review(text):\n",
        "  return ' '.join([reverse_word_index.get(i, '?') for i in text])\n"
      ],
      "execution_count": 5,
      "outputs": [
        {
          "output_type": "stream",
          "text": [
            "Downloading data from https://storage.googleapis.com/tensorflow/tf-keras-datasets/imdb_word_index.json\n",
            "1646592/1641221 [==============================] - 0s 0us/step\n"
          ],
          "name": "stdout"
        }
      ]
    },
    {
      "cell_type": "code",
      "metadata": {
        "id": "wrVTfcqrmeye",
        "colab_type": "code",
        "outputId": "71c8cdcb-4514-46bc-83fc-f5e75872c7dc",
        "colab": {
          "base_uri": "https://localhost:8080/",
          "height": 54
        }
      },
      "source": [
        "decode_review(train_data[8])"
      ],
      "execution_count": 6,
      "outputs": [
        {
          "output_type": "execute_result",
          "data": {
            "text/plain": [
              "\"<START> just got out and cannot believe what a brilliant documentary this is rarely do you walk out of a movie theater in such awe and <UNK> lately movies have become so over hyped that the thrill of discovering something truly special and unique rarely happens <UNK> <UNK> did this to me when it first came out and this movie is doing to me now i didn't know a thing about this before going into it and what a surprise if you hear the concept you might get the feeling that this is one of those <UNK> movies about an amazing triumph covered with over the top music and trying to have us fully convinced of what a great story it is telling but then not letting us in <UNK> this is not that movie the people tell the story this does such a good job of capturing every moment of their involvement while we enter their world and feel every second with them there is so much beyond the climb that makes everything they go through so much more tense touching the void was also a great doc about mountain climbing and showing the intensity in an engaging way but this film is much more of a human story i just saw it today but i will go and say that this is one of the best documentaries i have ever seen\""
            ]
          },
          "metadata": {
            "tags": []
          },
          "execution_count": 6
        }
      ]
    },
    {
      "cell_type": "markdown",
      "metadata": {
        "id": "tui8spTXDCaP",
        "colab_type": "text"
      },
      "source": [
        "### Prepare the data\n",
        "The reviews- the array of integers- must be converted to tensors before fed into the neural network.\n",
        "we can pad the arrays so they all have the same length, then create an integer tensor of shape max_length * num_reviews. We can use an embedding layer capable of handling this shape as the first layer in our network.\n"
      ]
    },
    {
      "cell_type": "code",
      "metadata": {
        "id": "MbAhgn6JDuk1",
        "colab_type": "code",
        "colab": {}
      },
      "source": [
        "train_data = keras.preprocessing.sequence.pad_sequences(train_data,\n",
        "                                                       value=word_index[\"<PAD>\"],\n",
        "                                                       padding=\"post\",\n",
        "                                                       maxlen=256)\n",
        "test_data = keras.preprocessing.sequence.pad_sequences(test_data,\n",
        "                                                      value=word_index[\"<PAD>\"],\n",
        "                                                      padding=\"post\",\n",
        "                                                      maxlen=256)\n"
      ],
      "execution_count": 0,
      "outputs": []
    },
    {
      "cell_type": "code",
      "metadata": {
        "id": "kPclSn1qFhie",
        "colab_type": "code",
        "colab": {
          "base_uri": "https://localhost:8080/",
          "height": 340
        },
        "outputId": "3ff52385-cb3c-4582-bfd2-e5113325f33f"
      },
      "source": [
        "len(train_data[0]),len(train_data[1])\n",
        "print(train_data[0])"
      ],
      "execution_count": 11,
      "outputs": [
        {
          "output_type": "stream",
          "text": [
            "[   1   14   22   16   43  530  973 1622 1385   65  458 4468   66 3941\n",
            "    4  173   36  256    5   25  100   43  838  112   50  670    2    9\n",
            "   35  480  284    5  150    4  172  112  167    2  336  385   39    4\n",
            "  172 4536 1111   17  546   38   13  447    4  192   50   16    6  147\n",
            " 2025   19   14   22    4 1920 4613  469    4   22   71   87   12   16\n",
            "   43  530   38   76   15   13 1247    4   22   17  515   17   12   16\n",
            "  626   18    2    5   62  386   12    8  316    8  106    5    4 2223\n",
            " 5244   16  480   66 3785   33    4  130   12   16   38  619    5   25\n",
            "  124   51   36  135   48   25 1415   33    6   22   12  215   28   77\n",
            "   52    5   14  407   16   82    2    8    4  107  117 5952   15  256\n",
            "    4    2    7 3766    5  723   36   71   43  530  476   26  400  317\n",
            "   46    7    4    2 1029   13  104   88    4  381   15  297   98   32\n",
            " 2071   56   26  141    6  194 7486   18    4  226   22   21  134  476\n",
            "   26  480    5  144   30 5535   18   51   36   28  224   92   25  104\n",
            "    4  226   65   16   38 1334   88   12   16  283    5   16 4472  113\n",
            "  103   32   15   16 5345   19  178   32    0    0    0    0    0    0\n",
            "    0    0    0    0    0    0    0    0    0    0    0    0    0    0\n",
            "    0    0    0    0    0    0    0    0    0    0    0    0    0    0\n",
            "    0    0    0    0]\n"
          ],
          "name": "stdout"
        }
      ]
    },
    {
      "cell_type": "code",
      "metadata": {
        "id": "bSRn2W1gGE87",
        "colab_type": "code",
        "colab": {
          "base_uri": "https://localhost:8080/",
          "height": 343
        },
        "outputId": "ffa5af05-8615-4731-8cfb-8fba1fd09171"
      },
      "source": [
        "# input shape is the vocabulary count used for the movie reviews(10,000 words)\n",
        "vocab_size = 10000\n",
        "\n",
        "model = keras.Sequential()\n",
        "model.add(keras.layers.Embedding(vocab_size,16))\n",
        "model.add(keras.layers.GlobalAveragePooling1D())\n",
        "model.add(keras.layers.Dense(16, activation=tf.nn.relu))\n",
        "model.add(keras.layers.Dense(1, activation=tf.nn.sigmoid))\n",
        "\n",
        "model.summary()\n"
      ],
      "execution_count": 12,
      "outputs": [
        {
          "output_type": "stream",
          "text": [
            "WARNING:tensorflow:From /usr/local/lib/python3.6/dist-packages/tensorflow/python/ops/resource_variable_ops.py:435: colocate_with (from tensorflow.python.framework.ops) is deprecated and will be removed in a future version.\n",
            "Instructions for updating:\n",
            "Colocations handled automatically by placer.\n",
            "_________________________________________________________________\n",
            "Layer (type)                 Output Shape              Param #   \n",
            "=================================================================\n",
            "embedding (Embedding)        (None, None, 16)          160000    \n",
            "_________________________________________________________________\n",
            "global_average_pooling1d (Gl (None, 16)                0         \n",
            "_________________________________________________________________\n",
            "dense (Dense)                (None, 16)                272       \n",
            "_________________________________________________________________\n",
            "dense_1 (Dense)              (None, 1)                 17        \n",
            "=================================================================\n",
            "Total params: 160,289\n",
            "Trainable params: 160,289\n",
            "Non-trainable params: 0\n",
            "_________________________________________________________________\n"
          ],
          "name": "stdout"
        }
      ]
    },
    {
      "cell_type": "markdown",
      "metadata": {
        "id": "PSjrUTX2HFHy",
        "colab_type": "text"
      },
      "source": [
        "The layers are stacked sequentially to build the classifier:\n",
        "  1. The first layer is an Embedding layer. This layer takes the integer-encoded vocabulary and looks up the embedding vector for each word-index. These vectors are learned as the model trains. The vectors add a dimension to the output array. The resulting dimensions are: (batch, sequence, embedding).\n",
        "  2. Next, a GlobalAveragePooling1D layers returns a fixed-length output vector for each example by averaging over the sequence dimension. This allows the model to handle input of variable length, in the simplest way possible.\n",
        "  3. This fixed-length output vector is piped through a fully-connected (Dense) layer with 16 hidden units.\n",
        "  4. The last layer is densely connected with a single output node. Using the sigmoid activation function, this value is a float between 0 and 1, representing a probability, or confidence level."
      ]
    },
    {
      "cell_type": "markdown",
      "metadata": {
        "id": "-Pk2KlsfJg9y",
        "colab_type": "text"
      },
      "source": [
        "### Loss function and optimizer\n",
        "A model needs a loss function and an optimizer for training.Since this is a binary classification problem and the model outputs a probability(a single-unit layre with a sigmoid activation), we'll use the binary_crossentropy loss function.\n",
        "\n",
        "Binary_crossentropy is better for dealing with probabilities-- it measures the distande between probability distributions, or in our case, between the ground-truth distribution and the predictions."
      ]
    },
    {
      "cell_type": "code",
      "metadata": {
        "id": "OFZr9H8aJGNR",
        "colab_type": "code",
        "colab": {}
      },
      "source": [
        "model.compile(optimizer='adam',\n",
        "             loss='binary_crossentropy',\n",
        "             metrics=['acc'])"
      ],
      "execution_count": 0,
      "outputs": []
    },
    {
      "cell_type": "markdown",
      "metadata": {
        "id": "vi4_oAuEKt1W",
        "colab_type": "text"
      },
      "source": [
        "### Create a validation set"
      ]
    },
    {
      "cell_type": "code",
      "metadata": {
        "id": "BQib6IADKiic",
        "colab_type": "code",
        "colab": {}
      },
      "source": [
        "x_val = train_data[:10000]\n",
        "partial_x_train = train_data[10000:]\n",
        "\n",
        "y_val = train_labels[:10000]\n",
        "partial_y_train = train_labels[10000:]\n"
      ],
      "execution_count": 0,
      "outputs": []
    },
    {
      "cell_type": "markdown",
      "metadata": {
        "id": "N5CruyO2LLtZ",
        "colab_type": "text"
      },
      "source": [
        "### Train the model\n"
      ]
    },
    {
      "cell_type": "code",
      "metadata": {
        "id": "GCKZOPiCLJkX",
        "colab_type": "code",
        "colab": {
          "base_uri": "https://localhost:8080/",
          "height": 1465
        },
        "outputId": "591deb23-9880-4d00-e8ae-de26cf025850"
      },
      "source": [
        "history = model.fit(partial_x_train,\n",
        "                    partial_y_train,\n",
        "                    epochs=40,\n",
        "                    batch_size=512,\n",
        "                    validation_data=(x_val, y_val),\n",
        "                    verbose=1)"
      ],
      "execution_count": 17,
      "outputs": [
        {
          "output_type": "stream",
          "text": [
            "Train on 15000 samples, validate on 10000 samples\n",
            "WARNING:tensorflow:From /usr/local/lib/python3.6/dist-packages/tensorflow/python/ops/math_ops.py:3066: to_int32 (from tensorflow.python.ops.math_ops) is deprecated and will be removed in a future version.\n",
            "Instructions for updating:\n",
            "Use tf.cast instead.\n",
            "Epoch 1/40\n",
            "15000/15000 [==============================] - 2s 100us/sample - loss: 0.6917 - acc: 0.6061 - val_loss: 0.6893 - val_acc: 0.7085\n",
            "Epoch 2/40\n",
            "15000/15000 [==============================] - 1s 60us/sample - loss: 0.6852 - acc: 0.7383 - val_loss: 0.6806 - val_acc: 0.7355\n",
            "Epoch 3/40\n",
            "15000/15000 [==============================] - 1s 52us/sample - loss: 0.6713 - acc: 0.7539 - val_loss: 0.6629 - val_acc: 0.7552\n",
            "Epoch 4/40\n",
            "15000/15000 [==============================] - 1s 53us/sample - loss: 0.6467 - acc: 0.7677 - val_loss: 0.6347 - val_acc: 0.7560\n",
            "Epoch 5/40\n",
            "15000/15000 [==============================] - 1s 54us/sample - loss: 0.6107 - acc: 0.7934 - val_loss: 0.5974 - val_acc: 0.7844\n",
            "Epoch 6/40\n",
            "15000/15000 [==============================] - 1s 53us/sample - loss: 0.5660 - acc: 0.8143 - val_loss: 0.5547 - val_acc: 0.8064\n",
            "Epoch 7/40\n",
            "15000/15000 [==============================] - 1s 52us/sample - loss: 0.5167 - acc: 0.8326 - val_loss: 0.5088 - val_acc: 0.8203\n",
            "Epoch 8/40\n",
            "15000/15000 [==============================] - 1s 53us/sample - loss: 0.4681 - acc: 0.8501 - val_loss: 0.4673 - val_acc: 0.8364\n",
            "Epoch 9/40\n",
            "15000/15000 [==============================] - 1s 52us/sample - loss: 0.4238 - acc: 0.8650 - val_loss: 0.4308 - val_acc: 0.8462\n",
            "Epoch 10/40\n",
            "15000/15000 [==============================] - 1s 53us/sample - loss: 0.3853 - acc: 0.8759 - val_loss: 0.4013 - val_acc: 0.8526\n",
            "Epoch 11/40\n",
            "15000/15000 [==============================] - 1s 52us/sample - loss: 0.3531 - acc: 0.8843 - val_loss: 0.3772 - val_acc: 0.8609\n",
            "Epoch 12/40\n",
            "15000/15000 [==============================] - 1s 52us/sample - loss: 0.3262 - acc: 0.8918 - val_loss: 0.3587 - val_acc: 0.8636\n",
            "Epoch 13/40\n",
            "15000/15000 [==============================] - 1s 52us/sample - loss: 0.3042 - acc: 0.8973 - val_loss: 0.3427 - val_acc: 0.8699\n",
            "Epoch 14/40\n",
            "15000/15000 [==============================] - 1s 53us/sample - loss: 0.2844 - acc: 0.9036 - val_loss: 0.3309 - val_acc: 0.8731\n",
            "Epoch 15/40\n",
            "15000/15000 [==============================] - 1s 51us/sample - loss: 0.2677 - acc: 0.9081 - val_loss: 0.3214 - val_acc: 0.8756\n",
            "Epoch 16/40\n",
            "15000/15000 [==============================] - 1s 51us/sample - loss: 0.2528 - acc: 0.9129 - val_loss: 0.3134 - val_acc: 0.8758\n",
            "Epoch 17/40\n",
            "15000/15000 [==============================] - 1s 51us/sample - loss: 0.2389 - acc: 0.9171 - val_loss: 0.3066 - val_acc: 0.8788\n",
            "Epoch 18/40\n",
            "15000/15000 [==============================] - 1s 53us/sample - loss: 0.2267 - acc: 0.9225 - val_loss: 0.3013 - val_acc: 0.8811\n",
            "Epoch 19/40\n",
            "15000/15000 [==============================] - 1s 53us/sample - loss: 0.2156 - acc: 0.9244 - val_loss: 0.2964 - val_acc: 0.8824\n",
            "Epoch 20/40\n",
            "15000/15000 [==============================] - 1s 53us/sample - loss: 0.2056 - acc: 0.9287 - val_loss: 0.2932 - val_acc: 0.8827\n",
            "Epoch 21/40\n",
            "15000/15000 [==============================] - 1s 52us/sample - loss: 0.1954 - acc: 0.9347 - val_loss: 0.2904 - val_acc: 0.8850\n",
            "Epoch 22/40\n",
            "15000/15000 [==============================] - 1s 54us/sample - loss: 0.1869 - acc: 0.9383 - val_loss: 0.2886 - val_acc: 0.8835\n",
            "Epoch 23/40\n",
            "15000/15000 [==============================] - 1s 52us/sample - loss: 0.1783 - acc: 0.9425 - val_loss: 0.2878 - val_acc: 0.8836\n",
            "Epoch 24/40\n",
            "15000/15000 [==============================] - 1s 53us/sample - loss: 0.1709 - acc: 0.9452 - val_loss: 0.2862 - val_acc: 0.8849\n",
            "Epoch 25/40\n",
            "15000/15000 [==============================] - 1s 53us/sample - loss: 0.1633 - acc: 0.9483 - val_loss: 0.2854 - val_acc: 0.8838\n",
            "Epoch 26/40\n",
            "15000/15000 [==============================] - 1s 54us/sample - loss: 0.1565 - acc: 0.9513 - val_loss: 0.2863 - val_acc: 0.8828\n",
            "Epoch 27/40\n",
            "15000/15000 [==============================] - 1s 53us/sample - loss: 0.1501 - acc: 0.9539 - val_loss: 0.2860 - val_acc: 0.8832\n",
            "Epoch 28/40\n",
            "15000/15000 [==============================] - 1s 51us/sample - loss: 0.1440 - acc: 0.9559 - val_loss: 0.2866 - val_acc: 0.8845\n",
            "Epoch 29/40\n",
            "15000/15000 [==============================] - 1s 53us/sample - loss: 0.1386 - acc: 0.9591 - val_loss: 0.2890 - val_acc: 0.8832\n",
            "Epoch 30/40\n",
            "15000/15000 [==============================] - 1s 51us/sample - loss: 0.1331 - acc: 0.9606 - val_loss: 0.2884 - val_acc: 0.8856\n",
            "Epoch 31/40\n",
            "15000/15000 [==============================] - 1s 51us/sample - loss: 0.1274 - acc: 0.9631 - val_loss: 0.2899 - val_acc: 0.8857\n",
            "Epoch 32/40\n",
            "15000/15000 [==============================] - 1s 52us/sample - loss: 0.1223 - acc: 0.9654 - val_loss: 0.2918 - val_acc: 0.8855\n",
            "Epoch 33/40\n",
            "15000/15000 [==============================] - 1s 52us/sample - loss: 0.1175 - acc: 0.9672 - val_loss: 0.2944 - val_acc: 0.8839\n",
            "Epoch 34/40\n",
            "15000/15000 [==============================] - 1s 53us/sample - loss: 0.1131 - acc: 0.9684 - val_loss: 0.2964 - val_acc: 0.8858\n",
            "Epoch 35/40\n",
            "15000/15000 [==============================] - 1s 55us/sample - loss: 0.1090 - acc: 0.9699 - val_loss: 0.3000 - val_acc: 0.8833\n",
            "Epoch 36/40\n",
            "15000/15000 [==============================] - 1s 52us/sample - loss: 0.1048 - acc: 0.9720 - val_loss: 0.3017 - val_acc: 0.8833\n",
            "Epoch 37/40\n",
            "15000/15000 [==============================] - 1s 54us/sample - loss: 0.1006 - acc: 0.9729 - val_loss: 0.3043 - val_acc: 0.8827\n",
            "Epoch 38/40\n",
            "15000/15000 [==============================] - 1s 55us/sample - loss: 0.0968 - acc: 0.9747 - val_loss: 0.3082 - val_acc: 0.8820\n",
            "Epoch 39/40\n",
            "15000/15000 [==============================] - 1s 52us/sample - loss: 0.0936 - acc: 0.9756 - val_loss: 0.3121 - val_acc: 0.8802\n",
            "Epoch 40/40\n",
            "15000/15000 [==============================] - 1s 51us/sample - loss: 0.0897 - acc: 0.9776 - val_loss: 0.3143 - val_acc: 0.8815\n"
          ],
          "name": "stdout"
        }
      ]
    },
    {
      "cell_type": "markdown",
      "metadata": {
        "id": "sLghh8iNL4i6",
        "colab_type": "text"
      },
      "source": [
        "### Evaluate the model\n",
        "And let's see how the model performs. Two values will be returned. Loss (a number which represents our error, lower values are better), and accuracy."
      ]
    },
    {
      "cell_type": "code",
      "metadata": {
        "id": "5_EU-AXbLlYk",
        "colab_type": "code",
        "colab": {
          "base_uri": "https://localhost:8080/",
          "height": 71
        },
        "outputId": "f79dcb15-f12a-42ba-f3e3-26883d2efc47"
      },
      "source": [
        "results = model.evaluate(test_data, test_labels)\n",
        "print(results)"
      ],
      "execution_count": 18,
      "outputs": [
        {
          "output_type": "stream",
          "text": [
            "25000/25000 [==============================] - 1s 38us/sample - loss: 0.3357 - acc: 0.8708\n",
            "[0.33574424365997313, 0.87084]\n"
          ],
          "name": "stdout"
        }
      ]
    },
    {
      "cell_type": "markdown",
      "metadata": {
        "id": "62zvs7IHM2s_",
        "colab_type": "text"
      },
      "source": [
        "### Create a graph of accuracy and loss over time\n",
        "model.fit() returns a History object that contains a dictionary with everything that happened during training:"
      ]
    },
    {
      "cell_type": "code",
      "metadata": {
        "id": "ueJ97VfqNLgd",
        "colab_type": "code",
        "colab": {
          "base_uri": "https://localhost:8080/",
          "height": 34
        },
        "outputId": "8e4a0c86-bf1e-46e6-f920-7b3073598f00"
      },
      "source": [
        "history_dict = history.history\n",
        "history_dict.keys()\n"
      ],
      "execution_count": 19,
      "outputs": [
        {
          "output_type": "execute_result",
          "data": {
            "text/plain": [
              "dict_keys(['loss', 'acc', 'val_loss', 'val_acc'])"
            ]
          },
          "metadata": {
            "tags": []
          },
          "execution_count": 19
        }
      ]
    },
    {
      "cell_type": "code",
      "metadata": {
        "id": "eJGHgxF4NQri",
        "colab_type": "code",
        "colab": {
          "base_uri": "https://localhost:8080/",
          "height": 295
        },
        "outputId": "9cb357f4-3208-4999-ca80-12e702acdcbf"
      },
      "source": [
        "import matplotlib.pyplot as plt\n",
        "\n",
        "acc = history_dict['acc']\n",
        "val_acc = history_dict['val_acc']\n",
        "loss = history_dict['loss']\n",
        "val_loss = history_dict['val_loss']\n",
        "\n",
        "epochs = range(1, len(acc) + 1) \n",
        "\n",
        "# 'bo' is for 'blue dot'\n",
        "plt.plot(epochs, loss, 'bo', label='Training loss')\n",
        "# 'b' is for 'solid blue line'\n",
        "plt.plot(epochs, val_loss, 'b', label='Validation loss')\n",
        "plt.title('Training and validation loss')\n",
        "plt.xlabel('Epochs')\n",
        "plt.ylabel('Loss')\n",
        "plt.legend()\n",
        "plt.show()"
      ],
      "execution_count": 20,
      "outputs": [
        {
          "output_type": "display_data",
          "data": {
            "image/png": "[encoded data removed]",
            "text/plain": [
              "<Figure size 432x288 with 1 Axes>"
            ]
          },
          "metadata": {
            "tags": []
          }
        }
      ]
    },
    {
      "cell_type": "code",
      "metadata": {
        "id": "Z_KgRuIGOrY6",
        "colab_type": "code",
        "colab": {
          "base_uri": "https://localhost:8080/",
          "height": 295
        },
        "outputId": "debd9f20-fd27-4dba-f9b3-e2b5417e0cf5"
      },
      "source": [
        "plt.clf() # clear figure\n",
        "\n",
        "plt.plot(epochs, acc, 'bo', label='Training acc')\n",
        "plt.plot(epochs, val_acc, 'b', label='Validation acc')\n",
        "plt.title('Training and validation accuracy')\n",
        "plt.xlabel('Epochs')\n",
        "plt.ylabel('Accuracy')\n",
        "plt.legend()\n",
        "plt.show()"
      ],
      "execution_count": 21,
      "outputs": [
        {
          "output_type": "display_data",
          "data": {
            "image/png": "[encoded data removed]",
            "text/plain": [
              "<Figure size 432x288 with 1 Axes>"
            ]
          },
          "metadata": {
            "tags": []
          }
        }
      ]
    }
  ]
}